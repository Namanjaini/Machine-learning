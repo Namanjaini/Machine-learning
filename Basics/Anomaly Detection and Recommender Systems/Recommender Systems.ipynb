{
 "cells": [
  {
   "cell_type": "code",
   "execution_count": 175,
   "metadata": {},
   "outputs": [],
   "source": [
    "import numpy as np\n",
    "import random\n",
    "import re\n",
    "import pandas as pd\n",
    "from mpl_toolkits.mplot3d import Axes3D\n",
    "from numpy import linalg as LA\n",
    "import scipy.io as sio   ## for loading octave matlab file\n",
    "import math\n",
    "import numpy.linalg as linalg\n",
    "\n",
    "from sklearn.model_selection import train_test_split\n",
    "import matplotlib.pyplot as plt\n",
    "import scipy.optimize #fmin_cg "
   ]
  },
  {
   "cell_type": "code",
   "execution_count": 176,
   "metadata": {},
   "outputs": [],
   "source": [
    "'''\n",
    " load the dataset ex8 movies.mat, providing the variables Y and R in your\n",
    " environment. The matrix Y (a num movies×num users matrix) stores the\n",
    " ratings y(i,j) (from 1 to 5). The matrix R is an binary-valued indicator\n",
    " matrix, where R(i,j) = 1 if user j gave a rating to movie i, and R(i,j) = 0 \n",
    " otherwise\n",
    " Y is a 1682x943 matrix, containing ratings (1-5) of 1682 movies on \n",
    "  943 users\n",
    "\n",
    "  R is a 1682x943 matrix, where R(i,j) = 1 if and only if user j gave a\n",
    "  rating to movie i\n",
    "\n",
    "'''\n",
    "# The objective of collaborative ﬁltering is to predict movie ratings for \n",
    "#the movies that users have not yet rated, that is, the entries with\n",
    "#R(i,j) = 0. This will allow us to recommend the movies with the highest\n",
    "#predicted ratings to the user. \n",
    "mat_contents = sio.loadmat(r\"C:\\Users\\user\\Documents\\Machine learning\\machine-learning-ex8\\ex8\\ex8_movies.mat\")\n",
    "\n",
    "# ratings data stored in arrays Y\n",
    "Y=mat_contents['Y']\n",
    "\n",
    "#binary value indicator matrix R\n",
    "R=mat_contents['R']\n"
   ]
  },
  {
   "cell_type": "code",
   "execution_count": 177,
   "metadata": {
    "scrolled": true
   },
   "outputs": [
    {
     "name": "stdout",
     "output_type": "stream",
     "text": [
      "avg_rating =  3.8783185840707963\n",
      "avg_rating =  3.8783185840707963\n"
     ]
    }
   ],
   "source": [
    "#From the matrix, we can compute statistics like average rating.\n",
    "# Method 1\n",
    "avg_rating = sum(Y[0])/sum(Y[0]!=0)\n",
    "print('avg_rating = ',avg_rating)\n",
    "\n",
    "# Method 2\n",
    "a=np.where(Y[0]!=0)\n",
    "avg_rating = Y[0][a].mean()\n",
    "print('avg_rating = ',avg_rating)"
   ]
  },
  {
   "cell_type": "code",
   "execution_count": 178,
   "metadata": {},
   "outputs": [
    {
     "data": {
      "text/plain": [
       "<matplotlib.image.AxesImage at 0x249adc37668>"
      ]
     },
     "execution_count": 178,
     "metadata": {},
     "output_type": "execute_result"
    },
    {
     "data": {
      "image/png": "[encoded data removed]",
      "text/plain": [
       "<Figure size 432x288 with 1 Axes>"
      ]
     },
     "metadata": {},
     "output_type": "display_data"
    }
   ],
   "source": [
    "## just a visualization of how imshow works each value is assigned a pixel and every time the same digit is \n",
    "## represented with that same color\n",
    "a=np.array([[1, 2,3], [3, 4,5]])\n",
    "plt.imshow(a,aspect='auto')"
   ]
  },
  {
   "cell_type": "code",
   "execution_count": 179,
   "metadata": {},
   "outputs": [
    {
     "data": {
      "text/plain": [
       "<matplotlib.image.AxesImage at 0x249ade20278>"
      ]
     },
     "execution_count": 179,
     "metadata": {},
     "output_type": "execute_result"
    },
    {
     "data": {
      "image/png": "[encoded data removed]",
      "text/plain": [
       "<Figure size 432x288 with 1 Axes>"
      ]
     },
     "metadata": {},
     "output_type": "display_data"
    }
   ],
   "source": [
    "#We can \"visualize\" the ratings matrix by plotting it with imshow\n",
    "plt.imshow(Y,aspect='auto')\n"
   ]
  },
  {
   "cell_type": "markdown",
   "metadata": {},
   "source": [
    "### Collaborative Filtering Cost Function"
   ]
  },
  {
   "cell_type": "code",
   "execution_count": 180,
   "metadata": {},
   "outputs": [],
   "source": [
    "'''\n",
    "You will now implement the cost function for collaborative filtering.\n",
    "%  To help you debug your cost function, we have included set of weights\n",
    "%  that we trained on that. Specifically, you should complete the code in \n",
    "%  cofiCostFunc.m to return J.\n",
    "%  Load pre-trained weights (X, Theta, num_users, num_movies, num_features)\n",
    "load ('ex8_movieParams.mat');\n",
    "'''\n",
    "pre_trained_wts = sio.loadmat(r\"C:\\Users\\user\\Documents\\Machine learning\\machine-learning-ex8\\ex8\\ex8_movieParams.mat\")\n",
    "pre_trained_wts\n",
    "\n",
    "#data stored in arrays X\n",
    "X = pre_trained_wts['X']\n",
    "Theta= pre_trained_wts['Theta']\n",
    "num_users = pre_trained_wts['num_users']\n",
    "num_movies = pre_trained_wts['num_movies']\n",
    "num_features = pre_trained_wts['num_features']\n"
   ]
  },
  {
   "cell_type": "code",
   "execution_count": 181,
   "metadata": {},
   "outputs": [],
   "source": [
    "#Reduce the data set size so that this runs faster\n",
    "num_users = 4\n",
    "num_movies = 5\n",
    "num_features = 3\n",
    "\n",
    "smallX = X[0:num_movies, 0:num_features]\n",
    "smallTheta = Theta[0:num_users, 0:num_features]\n",
    "smallY = Y[0:num_movies, 0:num_users]\n",
    "smallR = R[0:num_movies, 0:num_users]\n"
   ]
  },
  {
   "cell_type": "code",
   "execution_count": 182,
   "metadata": {
    "scrolled": true
   },
   "outputs": [],
   "source": [
    "'''\n",
    "Collaborative filtering cost function\n",
    "%   [J, grad] = COFICOSTFUNC(params, Y, R, num_users, num_movies, ...\n",
    "%   num_features, lambda) returns the cost and gradient for the\n",
    "%   collaborative filtering problem.\n",
    "% Unfold the U and W matrices from params\n",
    "'''\n",
    "def cofiCostFunc(params, Y, R, num_users, num_movies,num_features, Lambda):\n",
    "    \n",
    "    #Unfold the X and Theta matrices from params\n",
    "    X = params[0:num_movies*num_features].reshape(num_movies,num_features)\n",
    "    Theta = params[num_movies*num_features:].reshape(num_users,num_features)\n",
    "\n",
    "    #You need to return the following values correctly\n",
    "    J = 0\n",
    "    X_grad = np.zeros((X.shape))\n",
    "    Theta_grad = np.zeros((Theta.shape))\n",
    "    \n",
    "    #Compute the cost function and gradient for collaborative filtering.\n",
    "    # this is a vectorized implementation of this cost function \n",
    "    M = (((X.dot(Theta.T))-Y)**2)/2   \n",
    "    '''\n",
    "  np.multipley(M,R) will do an element-wise multiplication between M and R; since R only has elements with values \n",
    "  either 0 or 1, this has the eﬀect of setting the elements of M to 0 only when the corresponding value in R is 0.\n",
    "  Hence, sum(sum(R.*M)) is the sum of all the elements of M for which the corresponding element in R equals 1.\n",
    "'''   \n",
    "    J = sum(sum(np.multiply(M,R)))    # you should be accumulating the cost for user j and movie i only if R(i,j) = 1.\n",
    "   \n",
    "    regterm1 = (sum(sum(Theta**2)))\n",
    "    regterm2 = (sum(sum(X**2)))\n",
    "    \n",
    "    J = J + (Lambda/2)*(regterm1 + regterm2) # add regularization to your original computations of the cost function, J\n",
    "    \n",
    "    diff = (( np.multiply(X.dot(Theta.T),R) )-Y)\n",
    "    \n",
    "    X_grad = diff.dot(Theta) + Lambda*X\n",
    "    Theta_grad = (diff.T).dot(X) + Lambda*Theta\n",
    "    grad = np.hstack((X_grad[:].flatten(),Theta_grad[:].flatten() )) \n",
    "    return J,grad\n"
   ]
  },
  {
   "cell_type": "code",
   "execution_count": 183,
   "metadata": {
    "scrolled": true
   },
   "outputs": [],
   "source": [
    "params = np.hstack((smallX[:].flatten(),smallTheta[:].flatten() ))   ## unrolling the parameters"
   ]
  },
  {
   "cell_type": "code",
   "execution_count": 184,
   "metadata": {},
   "outputs": [
    {
     "name": "stdout",
     "output_type": "stream",
     "text": [
      "the cost at loaded parameters at lambda = 0 is 22.22460372568567\n",
      "the unrolled gradient at loaded parameters at lambda = 0 are [ -2.52899165   7.57570308  -1.89979026  -0.56819597   3.35265031\n",
      "  -0.52339845  -0.83240713   4.91163297  -0.76677878  -0.38358278\n",
      "   2.26333698  -0.35334048  -0.80378006   4.74271842  -0.74040871\n",
      " -10.5680202    4.62776019  -7.16004443  -3.05099006   1.16441367\n",
      "  -3.47410789   0.           0.           0.           0.\n",
      "   0.           0.        ]\n",
      "\n",
      "the cost at loaded parameters at lambda = 1.5 is 31.344056244274213\n",
      "the unrolled gradient at loaded parameters at lambda = 1.5 are [ -0.95596339   6.97535514  -0.10861109   0.60308088   2.77421145\n",
      "   0.25839822   0.12985616   4.0898522   -0.89247334   0.29684395\n",
      "   1.06300933   0.66738144   0.60252677   4.90185327  -0.19747928\n",
      " -10.13985478   2.10136256  -6.76563628  -2.29347024   0.48244098\n",
      "  -2.99791422  -0.64787484  -0.71820673   1.27006666   1.09289758\n",
      "  -0.40784086   0.49026541]\n"
     ]
    }
   ],
   "source": [
    "J,grad = cofiCostFunc(params, smallY, smallR, num_users, num_movies,num_features, 0)\n",
    "print('the cost at loaded parameters at lambda = 0 is',J)\n",
    "print('the unrolled gradient at loaded parameters at lambda = 0 are',grad)\n",
    "print()\n",
    "J,grad = cofiCostFunc(params, smallY, smallR, num_users, num_movies,num_features, 1.5)\n",
    "print('the cost at loaded parameters at lambda = 1.5 is',J)\n",
    "print('the unrolled gradient at loaded parameters at lambda = 1.5 are',grad)\n"
   ]
  },
  {
   "cell_type": "code",
   "execution_count": 185,
   "metadata": {},
   "outputs": [],
   "source": [
    "\n",
    "'''\n",
    "This function Computes the gradient using \"finite differences\"\n",
    "%and gives us a numerical estimate of the gradient.\n",
    "%   It computes the numerical\n",
    "%   gradient of the function J around theta. Calling y = Jcost(theta) should\n",
    "%   return the function value at theta.\n",
    "  The following code implements numerical gradient checking, and \n",
    "%        returns the numerical gradient.It sets numgrad(i) to (a numerical \n",
    "%        approximation of) the partial derivative of J with respect to the \n",
    "%        i-th input argument, evaluated at theta. (i.e., numgrad(i) should \n",
    "%        be the (approximately) the partial derivative of J with respect \n",
    "%        to theta(i).)\n",
    "'''\n",
    "def computeNumericalGradient(Jcost,XTheta_params):\n",
    "    numgrad = np.zeros((XTheta_params.shape))\n",
    "    perturb = np.zeros((XTheta_params.shape))\n",
    "    e = 1e-4\n",
    "    for p in range(0,np.size(XTheta_params)):\n",
    "        perturb[p] = e\n",
    "        loss1 = Jcost(XTheta_params - perturb)\n",
    "        loss2 = Jcost(XTheta_params + perturb)\n",
    "        #% Compute Numerical Gradient\n",
    "        numgrad[p] = (loss2[0] - loss1[0]) / (2*e)\n",
    "        perturb[p] = 0\n",
    "    return numgrad"
   ]
  },
  {
   "cell_type": "code",
   "execution_count": 186,
   "metadata": {
    "scrolled": true
   },
   "outputs": [],
   "source": [
    "'''\n",
    "    It creates a collaborative filering problem \n",
    "%   to check your cost function and gradients\n",
    "%   CHECKCOSTFUNCTION(lambda) Creates a collaborative filering problem \n",
    "%   to check your cost function and gradients, it will output the \n",
    "%   analytical gradients produced by your code and the numerical gradients \n",
    "%   (computed using computeNumericalGradient). These two gradient \n",
    "%   computations should result in very similar values.\n",
    "'''\n",
    "def checkCostFunction(Lambda=0):\n",
    "    X_t = np.random.rand(4,3)\n",
    "    Theta_t = np.random.rand(5,3)\n",
    "\n",
    "    #Zap out most entries\n",
    "    Y = X_t.dot(Theta_t.T)\n",
    "    Y[np.random.rand(Y.shape[0],Y.shape[1])>0.5]=0\n",
    "    R = np.zeros((Y.shape))\n",
    "    R[Y > 0]=1\n",
    "\n",
    "    #Run Gradient Checking\n",
    "    X = np.random.randn(X_t.shape[0],X_t.shape[1])\n",
    "    Theta = np.random.randn(Theta_t.shape[0],Theta_t.shape[1])\n",
    "    num_users = Y.shape[1]\n",
    "    num_movies = Y.shape[0]\n",
    "    num_features = Theta_t.shape[1]\n",
    "\n",
    "    params = np.hstack((X[:].flatten(),Theta[:].flatten() ))   ## unrolling the parameters\n",
    "    numgrad = computeNumericalGradient(lambda t:cofiCostFunc(t, Y, R, num_users, num_movies,num_features, 0),params)\n",
    "    \n",
    "    J,grad = cofiCostFunc(params, Y, R, num_users, num_movies,num_features, 0)\n",
    "    print('numgrad ')\n",
    "    print(numgrad)\n",
    "    print('grad ')\n",
    "    print(grad)\n",
    "    \n",
    "    difference = np.linalg.norm(numgrad-grad)/np.linalg.norm(numgrad+grad)\n",
    "    print(\"difference = \",difference)"
   ]
  },
  {
   "cell_type": "code",
   "execution_count": 187,
   "metadata": {},
   "outputs": [
    {
     "name": "stdout",
     "output_type": "stream",
     "text": [
      "numgrad \n",
      "[-2.82081589 -0.12004405  1.61899021  0.01813088 -1.90145003 -2.11325842\n",
      " -3.33953959  1.64051207  1.38714521 -1.58795954  0.74719287  0.11198434\n",
      "  3.45027309  2.81887157 -1.26270584  0.618257    0.45067961  0.11271541\n",
      "  0.61851158  3.36004099  0.72380077 -0.20507789 -0.14949192 -0.03738807\n",
      " -0.48977432  2.73341792  1.28954587]\n",
      "grad \n",
      "[-2.82081589 -0.12004405  1.61899021  0.01813088 -1.90145003 -2.11325842\n",
      " -3.33953959  1.64051207  1.38714521 -1.58795954  0.74719287  0.11198434\n",
      "  3.45027309  2.81887157 -1.26270584  0.618257    0.45067961  0.11271541\n",
      "  0.61851158  3.36004099  0.72380077 -0.20507789 -0.14949192 -0.03738807\n",
      " -0.48977432  2.73341792  1.28954587]\n",
      "difference =  1.5816625201528652e-12\n"
     ]
    }
   ],
   "source": [
    "checkCostFunction(0)"
   ]
  },
  {
   "cell_type": "markdown",
   "metadata": {},
   "source": [
    "### Entering ratings for a new user"
   ]
  },
  {
   "cell_type": "code",
   "execution_count": 188,
   "metadata": {},
   "outputs": [
    {
     "data": {
      "text/plain": [
       "'\\nBefore we will train the collaborative filtering model, we will first\\n%  add ratings that correspond to a new user that we just observed. This\\n%  part of the code will also allow you to put in your own ratings for the\\n%  movies in our dataset!\\n%\\n'"
      ]
     },
     "execution_count": 188,
     "metadata": {},
     "output_type": "execute_result"
    }
   ],
   "source": [
    "'''\n",
    "Before we will train the collaborative filtering model, we will first\n",
    "%  add ratings that correspond to a new user that we just observed. This\n",
    "%  part of the code will also allow you to put in your own ratings for the\n",
    "%  movies in our dataset!\n",
    "%\n",
    "'''\n",
    "#"
   ]
  },
  {
   "cell_type": "code",
   "execution_count": 189,
   "metadata": {},
   "outputs": [
    {
     "name": "stdout",
     "output_type": "stream",
     "text": [
      "['Toy Story (1995)' 'Twelve Monkeys (1995)' 'Usual Suspects, The (1995)'\n",
      " 'Outbreak (1995)' 'Shawshank Redemption, The (1994)'\n",
      " 'While You Were Sleeping (1995)' 'Forrest Gump (1994)'\n",
      " 'Silence of the Lambs, The (1991)' 'Alien (1979)' 'Die Hard 2 (1990)'\n",
      " 'Sphere (1998)']\n",
      "[4. 3. 5. 4. 5. 3. 5. 2. 4. 5. 5.]\n"
     ]
    }
   ],
   "source": [
    "'''ths function reads the fixed movie list in movie.txt and returns a\n",
    "%cell array of the words\n",
    "%   movieList = loadMOVIELIST() reads the fixed movie list in movie.txt \n",
    "%   and returns a cell array of the words in movieList.\n",
    "'''\n",
    "#def loadMovieList():\n",
    " #%% Read the fixed movieulary list\n",
    "movielist = []\n",
    "with open(r'C:\\Users\\user\\Documents\\Machine learning\\machine-learning-ex8\\ex8\\movie_ids.txt') as text_file:\n",
    "    line = text_file.read().split('\\n')\n",
    "    line.pop()\n",
    "    for i in line:\n",
    "        movie = i.split(' ',1)\n",
    "        movielist.append(movie[1])\n",
    "n = 1682 # Total number of movies \n",
    " #Initialize my ratings\n",
    "my_ratings = np.zeros((1682, ))\n",
    "'''\n",
    " Check the file movie_idx.txt for id of each movie in our dataset\n",
    "% For example, Toy Story (1995) has ID 1, so to rate it \"4\", you can set'''\n",
    "my_ratings[0] = 4\n",
    "\n",
    "#% Or suppose did not enjoy Silence of the Lambs (1991), you can set\n",
    "my_ratings[97] = 2\n",
    "\n",
    "#% We have selected a few movies we liked / did not like and the ratings we\n",
    "#% gave are as follows:\n",
    "my_ratings[6] = 3\n",
    "my_ratings[11] = 5\n",
    "my_ratings[53] = 4\n",
    "my_ratings[63] = 5\n",
    "my_ratings[65] = 3\n",
    "my_ratings[68] = 5\n",
    "my_ratings[182] = 4\n",
    "my_ratings[225] = 5\n",
    "my_ratings[354] = 5\n",
    "\n",
    "a = my_ratings > 0\n",
    "moviearray = np.array(movielist)\n",
    "rated_movies = moviearray[a]\n",
    "\n",
    "print(moviearray[a])\n",
    "print(my_ratings[np.where(my_ratings>0)])\n",
    "\n"
   ]
  },
  {
   "cell_type": "markdown",
   "metadata": {},
   "source": [
    "### Learning Movie Ratings"
   ]
  },
  {
   "cell_type": "code",
   "execution_count": 190,
   "metadata": {},
   "outputs": [
    {
     "name": "stdout",
     "output_type": "stream",
     "text": [
      "(1682, 944)\n",
      "(1682, 944)\n"
     ]
    }
   ],
   "source": [
    "'''\n",
    "Now, you will train the collaborative filtering model on a movie rating \n",
    "%  dataset of 1682 movies and 943 users\n",
    "'''\n",
    "moviesmat = sio.loadmat(r\"C:\\Users\\user\\Documents\\Machine learning\\machine-learning-ex8\\ex8\\ex8_movies.mat\")\n",
    "\n",
    "# Y is a 1682x943 matrix, containing ratings (1-5) of 1682 movies by 943 users\n",
    "# R is a 1682x943 matrix, where R(i,j) = 1 if and only if user j gave a rating to movie i\n",
    "# Add our own ratings to the data matrix\n",
    "\n",
    "# ratings data stored in arrays Y\n",
    "Y=mat_contents['Y']\n",
    "\n",
    "#binary value indicator matrix R\n",
    "R=mat_contents['R']\n",
    "\n",
    "Y = np.hstack((Y,my_ratings.reshape(1682,1)))\n",
    "R = np.hstack((R,(my_ratings>0).astype(np.int).reshape(1682,1)))\n",
    "print(Y.shape)\n",
    "print(R.shape)\n"
   ]
  },
  {
   "cell_type": "code",
   "execution_count": 220,
   "metadata": {},
   "outputs": [],
   "source": [
    "'''\n",
    "NORMALIZERATINGS Preprocess data by subtracting mean rating for every \n",
    "%movie (every row)\n",
    "%   [Ynorm, Ymean] = NORMALIZERATINGS(Y, R) normalized Y so that each movie\n",
    "%   has a rating of 0 on average, and returns the mean rating in Ymean.\n",
    "%'''\n",
    "\n",
    "# Y_norm values are generated but not used in calling the optimization routine in the Octave code.   \n",
    "# However, Y_mean is used to shift predicted Y values.\n",
    "def normalizeRatings(Y, R):\n",
    "    avg_rating = np.sum(Y,axis=1)/np.sum(Y!=0,axis=1)\n",
    "    Ynorm = Y - avg_rating.reshape(len(Y),1)\n",
    "    return Ynorm,avg_rating"
   ]
  },
  {
   "cell_type": "code",
   "execution_count": 221,
   "metadata": {},
   "outputs": [
    {
     "name": "stdout",
     "output_type": "stream",
     "text": [
      "normalizeRatings =  [[ 1.1214128   0.1214128  -3.8785872  ... -3.8785872  -3.8785872\n",
      "   0.1214128 ]\n",
      " [-0.20610687 -3.20610687 -3.20610687 ... -3.20610687  1.79389313\n",
      "  -3.20610687]\n",
      " [ 0.96666667 -3.03333333 -3.03333333 ... -3.03333333 -3.03333333\n",
      "  -3.03333333]\n",
      " ...\n",
      " [-2.         -2.         -2.         ... -2.         -2.\n",
      "  -2.        ]\n",
      " [-3.         -3.         -3.         ... -3.         -3.\n",
      "  -3.        ]\n",
      " [-3.         -3.         -3.         ... -3.         -3.\n",
      "  -3.        ]]\n",
      "Ymean =  [3.8785872  3.20610687 3.03333333 ... 2.         3.         3.        ]\n"
     ]
    }
   ],
   "source": [
    "Ynorm,Ymean = normalizeRatings(Y,R)\n",
    "print('normalizeRatings = ',Ynorm)\n",
    "print('Ymean = ',Ymean)\n",
    "\n",
    "#  Useful Values\n",
    "num_users = Y.shape[1]\n",
    "num_movies = Y.shape[0]\n",
    "num_features = 10"
   ]
  },
  {
   "cell_type": "code",
   "execution_count": 246,
   "metadata": {},
   "outputs": [],
   "source": [
    "#Set Initial Parameters (Theta, X)\n",
    "X = np.random.randn(num_movies, num_features)\n",
    "Theta = np.random.randn(num_users, num_features)\n",
    "\n",
    "params = np.hstack((X[:].flatten(),Theta[:].flatten() ))   ## unrolling the parameters\n",
    "\n",
    "#set option for fmincg\n",
    "\n",
    "#Set Regularization\n",
    "Lambda = 10;\n",
    "\n",
    "# HERE INSTEAD OF USING FMIN_CG I HAVE USED MINIMIZE BECOZ IN FMIN_CG WE ARE COMPELLED TO MAKE TWO SEPERATE FUNCTIONS,\n",
    "# ONE FOR COST AND OTHER FOR GRADIENT. BUT MINIMIZE USE A SINGLE FUNCTION THAT RETURNS BOTH THE COST AND THE GRADIENT. \n",
    "# here u have to make jac = True(ethod for computing the gradient vector.) If jac is a Boolean and is True, fun is assumed\n",
    "#to return the gradient along\n",
    "#with the objective function. If False, the gradient will be estimated using ‘2-point’ finite difference estimation.\n",
    "\n",
    "opt_theta = scipy.optimize.minimize(cofiCostFunc, x0=params , args=(Y,R, num_users, num_movies,num_features, Lambda), \\\n",
    "                                    method='CG', jac=True, options={'maxiter':100})\n",
    "# IMPORTANT NOTE\n",
    "# Y_norm values are generated but not used in calling the optimization routine in the Octave code.   \n",
    "# However, Y_mean is used to shift predicted Y values."
   ]
  },
  {
   "cell_type": "code",
   "execution_count": 247,
   "metadata": {},
   "outputs": [
    {
     "name": "stdout",
     "output_type": "stream",
     "text": [
      "     fun: 71993.91849190759\n",
      "     jac: array([ 0.16206791,  0.00079404, -0.22257485, ...,  0.00216029,\n",
      "        0.00727579,  0.0453112 ])\n",
      " message: 'Maximum number of iterations has been exceeded.'\n",
      "    nfev: 150\n",
      "     nit: 100\n",
      "    njev: 150\n",
      "  status: 1\n",
      " success: False\n",
      "       x: array([-0.47675755, -0.44284688,  0.80308612, ...,  0.83775464,\n",
      "       -0.0021088 , -0.60917511])\n"
     ]
    }
   ],
   "source": [
    "print(opt_theta)\n",
    "opt_theta = opt_theta.x # taking out the optimized [theta+x] out of opt_theta"
   ]
  },
  {
   "cell_type": "code",
   "execution_count": 248,
   "metadata": {},
   "outputs": [],
   "source": [
    "#Unfold the X and Theta matrices from params\n",
    "X = opt_theta[0:num_movies*num_features].reshape(num_movies,num_features)\n",
    "Theta = opt_theta[num_movies*num_features:].reshape(num_users,num_features)\n"
   ]
  },
  {
   "cell_type": "markdown",
   "metadata": {},
   "source": [
    "### Recommendation for you"
   ]
  },
  {
   "cell_type": "code",
   "execution_count": 249,
   "metadata": {},
   "outputs": [
    {
     "name": "stdout",
     "output_type": "stream",
     "text": [
      "(1682, 944)\n"
     ]
    }
   ],
   "source": [
    "#After training the model, you can now make recommendations by computing the predictions matrix.\n",
    "p = X.dot(Theta.T)   ## predictions \n",
    "print( p.shape)\n",
    "my_predictions = p[:,p.shape[1]-1] + Ymean   ## ADDING MEAN SO THAT THE TERMS DO NOT REMAIN 0\n",
    "#print(my_predictions)\n"
   ]
  },
  {
   "cell_type": "code",
   "execution_count": 250,
   "metadata": {},
   "outputs": [
    {
     "data": {
      "text/plain": [
       "array([  49,  312,   63, ..., 1565, 1567, 1547], dtype=int64)"
      ]
     },
     "execution_count": 250,
     "metadata": {},
     "output_type": "execute_result"
    }
   ],
   "source": [
    "ix = np.argsort( - my_predictions) # reverse sort AND TAKING out the indexes\n",
    "ix"
   ]
  },
  {
   "cell_type": "code",
   "execution_count": 251,
   "metadata": {},
   "outputs": [
    {
     "name": "stdout",
     "output_type": "stream",
     "text": [
      "Predicting rating for movie  Star Wars (1977) is  8.53035844223712\n",
      "Predicting rating for movie  Titanic (1997) is  8.516815940766191\n",
      "Predicting rating for movie  Shawshank Redemption, The (1994) is  8.3215248997615\n",
      "Predicting rating for movie  Raiders of the Lost Ark (1981) is  8.272144806166018\n",
      "Predicting rating for movie  Schindler's List (1993) is  8.242571825534133\n",
      "Predicting rating for movie  Good Will Hunting (1997) is  8.137684889470455\n",
      "Predicting rating for movie  Empire Strikes Back, The (1980) is  8.097529042433305\n",
      "Predicting rating for movie  Godfather, The (1972) is  8.073383708714623\n",
      "Predicting rating for movie  Usual Suspects, The (1995) is  8.066747168474276\n",
      "Predicting rating for movie  Braveheart (1995) is  8.042151308893184\n",
      "\n",
      "\n",
      "Original ratings provided:\n",
      "\n",
      "Rated for 3.0 Twelve Monkeys (1995)\n",
      "Rated for 5.0 Usual Suspects, The (1995)\n",
      "Rated for 4.0 Outbreak (1995)\n",
      "Rated for 5.0 Shawshank Redemption, The (1994)\n",
      "Rated for 3.0 While You Were Sleeping (1995)\n",
      "Rated for 5.0 Forrest Gump (1994)\n",
      "Rated for 2.0 Silence of the Lambs, The (1991)\n",
      "Rated for 4.0 Alien (1979)\n",
      "Rated for 5.0 Die Hard 2 (1990)\n",
      "Rated for 5.0 Sphere (1998)\n"
     ]
    }
   ],
   "source": [
    "for i in range(0,10):\n",
    "    j = ix[i]\n",
    "    print('Predicting rating for movie ', movielist[j],'is ',my_predictions[j])\n",
    "print('\\n\\nOriginal ratings provided:\\n')\n",
    "for i in range( 1,len(my_ratings)):\n",
    "    if my_ratings[i] > 0 :\n",
    "        print('Rated for', my_ratings[i],movielist[i]);"
   ]
  }
 ],
 "metadata": {
  "kernelspec": {
   "display_name": "Python 2",
   "language": "python",
   "name": "python2"
  },
  "language_info": {
   "codemirror_mode": {
    "name": "ipython",
    "version": 2
   },
   "file_extension": ".py",
   "mimetype": "text/x-python",
   "name": "python",
   "nbconvert_exporter": "python",
   "pygments_lexer": "ipython2",
   "version": "2.7.14"
  }
 },
 "nbformat": 4,
 "nbformat_minor": 2
}
