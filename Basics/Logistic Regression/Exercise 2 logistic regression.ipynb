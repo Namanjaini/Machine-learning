{
 "cells": [
  {
   "cell_type": "code",
   "execution_count": 2,
   "metadata": {},
   "outputs": [],
   "source": [
    "import numpy as np\n",
    "import pandas as pd\n",
    "\n",
    "import matplotlib.pyplot as plt\n"
   ]
  },
  {
   "cell_type": "code",
   "execution_count": 3,
   "metadata": {},
   "outputs": [
    {
     "data": {
      "text/plain": [
       "<matplotlib.legend.Legend at 0x26cd4580c88>"
      ]
     },
     "execution_count": 3,
     "metadata": {},
     "output_type": "execute_result"
    },
    {
     "data": {
      "image/png": "[encoded data removed]",
      "text/plain": [
       "<Figure size 432x288 with 1 Axes>"
      ]
     },
     "metadata": {},
     "output_type": "display_data"
    }
   ],
   "source": [
    "df=pd.read_csv(r\"C:\\Users\\user\\Documents\\Machine learning\\machine-learning-ex2\\ex2\\ex2data1.txt\",header=None,names = ['exam_score1','exam_score2','admitted']  )\n",
    "\n",
    "neg=df[df['admitted']==0]\n",
    "pos=df[df['admitted']==1]\n",
    "\n",
    "plt.plot(neg['exam_score1'],neg['exam_score2'],'ko',label='not admitted')\n",
    "plt.plot(pos['exam_score1'],pos['exam_score2'],'k+',label='admitted')\n",
    "plt.xlabel('exam_score1')\n",
    "plt.ylabel('exam_score2')\n",
    "plt.legend()      ###   it shows label as points to which they belong\n"
   ]
  },
  {
   "cell_type": "code",
   "execution_count": 4,
   "metadata": {},
   "outputs": [],
   "source": [
    "#######  FUNCTION FOR CALCULATING THE SIGMOID"
   ]
  },
  {
   "cell_type": "code",
   "execution_count": 5,
   "metadata": {},
   "outputs": [
    {
     "name": "stdout",
     "output_type": "stream",
     "text": [
      "0.0024726231566347743\n",
      "[0.7310585786300049, 0.5, 4.780892883885469e-25, 0.9820137900379085]\n",
      "[[0.73105858 0.549834   0.98201379 0.99330715]\n",
      " [0.98201379 0.99330715 0.99752738 0.99908895]\n",
      " [0.99966465 0.95257413 0.98201379 0.88079708]]\n"
     ]
    }
   ],
   "source": [
    "def sigmoid(x):\n",
    "    ##IF X IS INTEGER\n",
    "    if type(x) == int:  \n",
    "        y=1/(1+np.exp(-x))\n",
    "        return y\n",
    "\n",
    "    elif type(x) == type([]): \n",
    "        \n",
    "        for i in range(len(x)):\n",
    "            x[i]=1/(1+np.exp(-x[i]))\n",
    "        return x\n",
    "    \n",
    "    elif type(x) == np.ndarray: \n",
    "        y=np.zeros(x.shape)\n",
    "        y=1/(1+np.exp(-x))\n",
    "        \n",
    "        return y\n",
    "    \n",
    "print (sigmoid(-6))\n",
    "\n",
    "print(sigmoid([1,0,-56,4]))\n",
    "\n",
    "n=np.array([[1,0.2,4,5],[4,5,6,7],[8,3,4,2]])\n",
    "\n",
    "print(sigmoid(n))"
   ]
  },
  {
   "cell_type": "code",
   "execution_count": 6,
   "metadata": {},
   "outputs": [],
   "source": [
    "####  COMPUTING COST FUNCTION"
   ]
  },
  {
   "cell_type": "code",
   "execution_count": 7,
   "metadata": {},
   "outputs": [],
   "source": [
    "\n",
    "x1 = np.array(df['exam_score1'])\n",
    "x2 = np.array(df['exam_score2'])\n",
    "y = np.array(df['admitted'])\n",
    "#making lists\n",
    "x1=[x1[i] for i in range(len(x1))] ####  CONVERTING ARRAY TO LIST\n",
    "x2=[x2[i] for i in range(len(x2))] ####  CONVERTING ARRAY TO LIST\n",
    "#print(x1)\n",
    "\n",
    "#print(x2)"
   ]
  },
  {
   "cell_type": "code",
   "execution_count": 8,
   "metadata": {},
   "outputs": [
    {
     "name": "stdout",
     "output_type": "stream",
     "text": [
      "(3, 1)\n"
     ]
    }
   ],
   "source": [
    "### Initializing theta\n",
    "\n",
    "theta = np.array([[-24],[0.2],[0.2]])\n",
    "print(theta.shape)"
   ]
  },
  {
   "cell_type": "code",
   "execution_count": 9,
   "metadata": {},
   "outputs": [],
   "source": [
    "\n",
    "#creating the matrix X by adding column of ones\n",
    "\n",
    "lst = [1 for i in range(len(x1))]\n",
    "X = np.array([lst,x1,x2])\n",
    "X=X.transpose()\n",
    "Y = y.reshape(len(y),1)\n",
    "\n"
   ]
  },
  {
   "cell_type": "code",
   "execution_count": 10,
   "metadata": {},
   "outputs": [
    {
     "data": {
      "text/plain": [
       "'\\nprint(hypo)\\nprint()\\nprint(type(hypo))\\n\\n'"
      ]
     },
     "execution_count": 10,
     "metadata": {},
     "output_type": "execute_result"
    }
   ],
   "source": [
    "##### defining the hypothesis\n",
    "\n",
    "def hypothesis(theta,X):\n",
    "   ## theta_transpose=theta.transpose()\n",
    "    ## minus theta_transpose*X\n",
    "#   print(theta_transpose)\n",
    "#   print(theta)\n",
    "      ## theta_transpose*X\n",
    "#   print(a)\n",
    "    \n",
    "  # print(type(a))\n",
    "    hypo=sigmoid(X.dot(theta))    ####calling the sigmoid function\n",
    "    return hypo\n",
    "\n",
    "\n",
    "\n",
    "#theta = np.array([[-24,0.2,0.2]])    ##theta values\n",
    "\n",
    "hypo=hypothesis(theta,X)         #####returning the hyposthesis array  \n",
    "'''\n",
    "print(hypo)\n",
    "print()\n",
    "print(type(hypo))\n",
    "\n",
    "'''"
   ]
  },
  {
   "cell_type": "code",
   "execution_count": 11,
   "metadata": {},
   "outputs": [
    {
     "data": {
      "text/plain": [
       "0.21833019382659785"
      ]
     },
     "execution_count": 11,
     "metadata": {},
     "output_type": "execute_result"
    }
   ],
   "source": [
    "def computeCost(theta,X,Y,mylambda=0.):\n",
    "    term1 = np.dot(-np.array(Y).T,np.log(hypothesis(theta,X)))\n",
    "    term2 = np.dot((1-np.array(Y)).T,np.log(1-hypothesis(theta,X)))\n",
    "  #  regterm = (mylambda/2) * np.sum(np.dot(theta[1:].T,theta[1:])) #Skip theta0 most important thing to note that summation \n",
    "    return float( (1./len(Y)) * ( np.sum(term1 - term2) ) )              ##start from theta zero we dotted it from 1\n",
    "computeCost(theta,X,Y)"
   ]
  },
  {
   "cell_type": "code",
   "execution_count": 12,
   "metadata": {},
   "outputs": [],
   "source": [
    "######## C0MPUTING THE GRADIENT  ##########  NOTE that there is no gradient descent\n"
   ]
  },
  {
   "cell_type": "code",
   "execution_count": 13,
   "metadata": {},
   "outputs": [],
   "source": [
    "def gradient(Y,theta,X):\n",
    "    \n",
    "    return (X.transpose()).dot(hypothesis(theta,X)-Y)/len(Y)\n",
    "    \n",
    "    "
   ]
  },
  {
   "cell_type": "code",
   "execution_count": null,
   "metadata": {},
   "outputs": [],
   "source": []
  },
  {
   "cell_type": "code",
   "execution_count": 14,
   "metadata": {},
   "outputs": [
    {
     "data": {
      "text/plain": [
       "array([[0.04290299],\n",
       "       [2.56623412],\n",
       "       [2.64679737]])"
      ]
     },
     "execution_count": 14,
     "metadata": {},
     "output_type": "execute_result"
    }
   ],
   "source": [
    "###calling gradient function\n",
    "\n",
    "gradient(Y,theta,X)\n"
   ]
  },
  {
   "cell_type": "code",
   "execution_count": 15,
   "metadata": {},
   "outputs": [],
   "source": [
    " ##########  OPTIMIZING AND CALCULATING BEST THETA VALUES"
   ]
  },
  {
   "cell_type": "code",
   "execution_count": 16,
   "metadata": {},
   "outputs": [],
   "source": [
    "from scipy.optimize import minimize\n"
   ]
  },
  {
   "cell_type": "code",
   "execution_count": 17,
   "metadata": {},
   "outputs": [
    {
     "name": "stdout",
     "output_type": "stream",
     "text": [
      "(3, 1)\n"
     ]
    }
   ],
   "source": [
    "print(theta.shape)\n",
    "from scipy import optimize\n",
    "\n",
    "######   this optimize function optimizes the function over number of iterations and tell us the best possible theta \n",
    "######   and the minimum cost\n",
    "def optimizeTheta(mytheta,myX,myy,mylambda=0.):\n",
    "    print (mytheta.shape)\n",
    "    result = optimize.fmin(computeCost, x0=mytheta, args=(myX, myy,mylambda), maxiter=50, full_output=True)\n",
    "    return result[0], result[1]\n"
   ]
  },
  {
   "cell_type": "code",
   "execution_count": 18,
   "metadata": {},
   "outputs": [
    {
     "name": "stdout",
     "output_type": "stream",
     "text": [
      "(3, 1)\n",
      "(3,)\n",
      "Warning: Maximum number of iterations has been exceeded.\n",
      "[-24.83001234   0.20322146   0.19911052]\n"
     ]
    },
    {
     "data": {
      "text/plain": [
       "0.20351851260946544"
      ]
     },
     "execution_count": 18,
     "metadata": {},
     "output_type": "execute_result"
    }
   ],
   "source": [
    "Y = Y.ravel()\n",
    "print(theta.shape)\n",
    "theta=theta.flatten()\n",
    "theta, mincost = optimizeTheta(theta,X,Y)\n",
    "print(theta)\n",
    "mincost"
   ]
  },
  {
   "cell_type": "code",
   "execution_count": 19,
   "metadata": {},
   "outputs": [],
   "source": [
    " ####  PLOTTING THE DECISION BOUNDARY\n"
   ]
  },
  {
   "cell_type": "code",
   "execution_count": 20,
   "metadata": {},
   "outputs": [],
   "source": [
    "def plotDecisionBoundary(theta, X, Y):\n",
    "    plt.plot(neg['exam_score1'],neg['exam_score2'],'ko',label='not admitted')\n",
    "    plt.plot(pos['exam_score1'],pos['exam_score2'],'k+',label='admitted')\n",
    "    \n",
    "    plt.xlabel('exam_score1')\n",
    "    plt.ylabel('exam_score2')\n",
    "    plt.legend()\n",
    "                            #### plotting the line by making x2 as a function of x1 or we can say y=mx+c equation  ########\n",
    "    plt.plot(X[:,1], ( -theta[0] - theta[1]*X[:,1] )/theta[2]  )\n",
    "    "
   ]
  },
  {
   "cell_type": "code",
   "execution_count": 21,
   "metadata": {},
   "outputs": [
    {
     "data": {
      "image/png": "[encoded data removed]",
      "text/plain": [
       "<Figure size 432x288 with 1 Axes>"
      ]
     },
     "metadata": {},
     "output_type": "display_data"
    }
   ],
   "source": [
    "plotDecisionBoundary(theta, X, Y)"
   ]
  },
  {
   "cell_type": "code",
   "execution_count": 22,
   "metadata": {},
   "outputs": [
    {
     "name": "stdout",
     "output_type": "stream",
     "text": [
      "[0.7754504292711576]\n"
     ]
    }
   ],
   "source": [
    "  ### predicting the output   ####\n",
    "x=[1,45,85]\n",
    "prob = sigmoid([x[0]*theta[0]+x[1]*theta[1]+x[2]*theta[2]])\n",
    "print(prob)\n",
    "\n"
   ]
  },
  {
   "cell_type": "code",
   "execution_count": 23,
   "metadata": {},
   "outputs": [
    {
     "name": "stdout",
     "output_type": "stream",
     "text": [
      "55.0\n"
     ]
    },
    {
     "data": {
      "text/plain": [
       "35.0"
      ]
     },
     "execution_count": 23,
     "metadata": {},
     "output_type": "execute_result"
    }
   ],
   "source": [
    "####   getting the accuracy of predticton   \n",
    "\n",
    "pos = np.array([X[i] for i in range(X.shape[0]) if y[i] == 1])\n",
    "neg = np.array([X[i] for i in range(X.shape[0]) if y[i] == 0])\n",
    "\n",
    "#####m      method 1\n",
    "\n",
    "'''\n",
    "def predict1(theta,X):\n",
    "    return hypothesis(theta,X) >= 0.5\n",
    "\n",
    "def predict2(theta,X):\n",
    "    return hypothesis(theta,X) < 0.5\n",
    "\n",
    "print(predict1(theta,pos).sum())\n",
    "print(predict2(theta,neg).sum())\n",
    "'''\n",
    "\n",
    "###         method 2\n",
    "def predict(theta,X):\n",
    "    return hypothesis(theta,X) >= 0.5\n",
    "\n",
    "\n",
    "pos_correct = float(np.sum(predict(theta,pos)))\n",
    "neg_correct = float(np.sum(np.invert(predict(theta,neg))))\n",
    "print(pos_correct)\n",
    "neg_correct"
   ]
  },
  {
   "cell_type": "code",
   "execution_count": 24,
   "metadata": {},
   "outputs": [
    {
     "name": "stdout",
     "output_type": "stream",
     "text": [
      "(100, 1)\n",
      "[0.09464411]\n"
     ]
    },
    {
     "data": {
      "text/plain": [
       "90"
      ]
     },
     "execution_count": 24,
     "metadata": {},
     "output_type": "execute_result"
    }
   ],
   "source": [
    "\n",
    "count=0\n",
    "hypo_value = hypothesis(theta,X).reshape(len(X),1)\n",
    "print(hypo_value.shape)\n",
    "print (hypo_value[0])\n",
    "for i in range(len(hypo_value)):\n",
    "    if hypo_value[i]>=0.5 and Y[i]==1:\n",
    "        count+=1\n",
    "    elif hypo_value[i]<0.5 and Y[i]==0:\n",
    "        count+=1\n",
    "count"
   ]
  },
  {
   "cell_type": "code",
   "execution_count": 27,
   "metadata": {},
   "outputs": [
    {
     "data": {
      "text/plain": [
       "(<Figure size 432x288 with 221 Axes>,\n",
       " array([<matplotlib.axes._subplots.AxesSubplot object at 0x0000026CDE930F60>,\n",
       "        <matplotlib.axes._subplots.AxesSubplot object at 0x0000026CDF3C7940>,\n",
       "        <matplotlib.axes._subplots.AxesSubplot object at 0x0000026CDEDD2DD8>,\n",
       "        <matplotlib.axes._subplots.AxesSubplot object at 0x0000026CDF48B208>,\n",
       "        <matplotlib.axes._subplots.AxesSubplot object at 0x0000026CDF1BA908>,\n",
       "        <matplotlib.axes._subplots.AxesSubplot object at 0x0000026CDF544400>,\n",
       "        <matplotlib.axes._subplots.AxesSubplot object at 0x0000026CDF4866D8>,\n",
       "        <matplotlib.axes._subplots.AxesSubplot object at 0x0000026CDF55A9B0>,\n",
       "        <matplotlib.axes._subplots.AxesSubplot object at 0x0000026CDF579C88>,\n",
       "        <matplotlib.axes._subplots.AxesSubplot object at 0x0000026CDF59DF60>,\n",
       "        <matplotlib.axes._subplots.AxesSubplot object at 0x0000026CDF5C6278>,\n",
       "        <matplotlib.axes._subplots.AxesSubplot object at 0x0000026CDF5E6550>,\n",
       "        <matplotlib.axes._subplots.AxesSubplot object at 0x0000026CDF608828>,\n",
       "        <matplotlib.axes._subplots.AxesSubplot object at 0x0000026CDF62CB00>,\n",
       "        <matplotlib.axes._subplots.AxesSubplot object at 0x0000026CDF661048>,\n",
       "        <matplotlib.axes._subplots.AxesSubplot object at 0x0000026CDF6876D8>,\n",
       "        <matplotlib.axes._subplots.AxesSubplot object at 0x0000026CDF6B0D68>,\n",
       "        <matplotlib.axes._subplots.AxesSubplot object at 0x0000026CDF6E1438>,\n",
       "        <matplotlib.axes._subplots.AxesSubplot object at 0x0000026CDF709AC8>,\n",
       "        <matplotlib.axes._subplots.AxesSubplot object at 0x0000026CDF73C198>,\n",
       "        <matplotlib.axes._subplots.AxesSubplot object at 0x0000026CDF763828>,\n",
       "        <matplotlib.axes._subplots.AxesSubplot object at 0x0000026CDF78BEB8>,\n",
       "        <matplotlib.axes._subplots.AxesSubplot object at 0x0000026CDF7BE588>,\n",
       "        <matplotlib.axes._subplots.AxesSubplot object at 0x0000026CDF7E5C18>,\n",
       "        <matplotlib.axes._subplots.AxesSubplot object at 0x0000026CDF8152E8>,\n",
       "        <matplotlib.axes._subplots.AxesSubplot object at 0x0000026CDF840978>,\n",
       "        <matplotlib.axes._subplots.AxesSubplot object at 0x0000026CDF872048>,\n",
       "        <matplotlib.axes._subplots.AxesSubplot object at 0x0000026CDF8996D8>,\n",
       "        <matplotlib.axes._subplots.AxesSubplot object at 0x0000026CDF8C2D68>,\n",
       "        <matplotlib.axes._subplots.AxesSubplot object at 0x0000026CDF8F4438>,\n",
       "        <matplotlib.axes._subplots.AxesSubplot object at 0x0000026CDF91CAC8>,\n",
       "        <matplotlib.axes._subplots.AxesSubplot object at 0x0000026CDF94E198>,\n",
       "        <matplotlib.axes._subplots.AxesSubplot object at 0x0000026CDF977828>,\n",
       "        <matplotlib.axes._subplots.AxesSubplot object at 0x0000026CDF99EEB8>,\n",
       "        <matplotlib.axes._subplots.AxesSubplot object at 0x0000026CDF9CF588>,\n",
       "        <matplotlib.axes._subplots.AxesSubplot object at 0x0000026CDF9F6C18>,\n",
       "        <matplotlib.axes._subplots.AxesSubplot object at 0x0000026CDFA272E8>,\n",
       "        <matplotlib.axes._subplots.AxesSubplot object at 0x0000026CDFA50978>,\n",
       "        <matplotlib.axes._subplots.AxesSubplot object at 0x0000026CDFA84048>,\n",
       "        <matplotlib.axes._subplots.AxesSubplot object at 0x0000026CDFAAB6D8>,\n",
       "        <matplotlib.axes._subplots.AxesSubplot object at 0x0000026CDFAD2D68>,\n",
       "        <matplotlib.axes._subplots.AxesSubplot object at 0x0000026CDFB05438>,\n",
       "        <matplotlib.axes._subplots.AxesSubplot object at 0x0000026CDFB2CAC8>,\n",
       "        <matplotlib.axes._subplots.AxesSubplot object at 0x0000026CDFB60198>,\n",
       "        <matplotlib.axes._subplots.AxesSubplot object at 0x0000026CDFB87828>,\n",
       "        <matplotlib.axes._subplots.AxesSubplot object at 0x0000026CDFBB1EB8>,\n",
       "        <matplotlib.axes._subplots.AxesSubplot object at 0x0000026CDFBE2588>,\n",
       "        <matplotlib.axes._subplots.AxesSubplot object at 0x0000026CDFC09C18>,\n",
       "        <matplotlib.axes._subplots.AxesSubplot object at 0x0000026CDF274C18>,\n",
       "        <matplotlib.axes._subplots.AxesSubplot object at 0x0000026CDF1E9080>,\n",
       "        <matplotlib.axes._subplots.AxesSubplot object at 0x0000026CDF18EF60>,\n",
       "        <matplotlib.axes._subplots.AxesSubplot object at 0x0000026CDF130F98>,\n",
       "        <matplotlib.axes._subplots.AxesSubplot object at 0x0000026CDF0E6EF0>,\n",
       "        <matplotlib.axes._subplots.AxesSubplot object at 0x0000026CDF0A92B0>,\n",
       "        <matplotlib.axes._subplots.AxesSubplot object at 0x0000026CDF0668D0>,\n",
       "        <matplotlib.axes._subplots.AxesSubplot object at 0x0000026CDF023978>,\n",
       "        <matplotlib.axes._subplots.AxesSubplot object at 0x0000026CDEFDA668>,\n",
       "        <matplotlib.axes._subplots.AxesSubplot object at 0x0000026CDEFACCF8>,\n",
       "        <matplotlib.axes._subplots.AxesSubplot object at 0x0000026CDEF69400>,\n",
       "        <matplotlib.axes._subplots.AxesSubplot object at 0x0000026CDF429438>,\n",
       "        <matplotlib.axes._subplots.AxesSubplot object at 0x0000026CDEEDE3C8>,\n",
       "        <matplotlib.axes._subplots.AxesSubplot object at 0x0000026CDEE82518>,\n",
       "        <matplotlib.axes._subplots.AxesSubplot object at 0x0000026CDEE42518>,\n",
       "        <matplotlib.axes._subplots.AxesSubplot object at 0x0000026CDEE099B0>,\n",
       "        <matplotlib.axes._subplots.AxesSubplot object at 0x0000026CDEDCB780>,\n",
       "        <matplotlib.axes._subplots.AxesSubplot object at 0x0000026CDED91C18>,\n",
       "        <matplotlib.axes._subplots.AxesSubplot object at 0x0000026CDED516A0>,\n",
       "        <matplotlib.axes._subplots.AxesSubplot object at 0x0000026CDED1ABE0>,\n",
       "        <matplotlib.axes._subplots.AxesSubplot object at 0x0000026CDECE2F28>,\n",
       "        <matplotlib.axes._subplots.AxesSubplot object at 0x0000026CDEC980F0>,\n",
       "        <matplotlib.axes._subplots.AxesSubplot object at 0x0000026CDEC60710>,\n",
       "        <matplotlib.axes._subplots.AxesSubplot object at 0x0000026CDEC2AD30>,\n",
       "        <matplotlib.axes._subplots.AxesSubplot object at 0x0000026CDEBEA5F8>,\n",
       "        <matplotlib.axes._subplots.AxesSubplot object at 0x0000026CDEBB9BE0>,\n",
       "        <matplotlib.axes._subplots.AxesSubplot object at 0x0000026CDEB77780>,\n",
       "        <matplotlib.axes._subplots.AxesSubplot object at 0x0000026CDEB37CF8>,\n",
       "        <matplotlib.axes._subplots.AxesSubplot object at 0x0000026CDF3E5BE0>,\n",
       "        <matplotlib.axes._subplots.AxesSubplot object at 0x0000026CDEA91400>,\n",
       "        <matplotlib.axes._subplots.AxesSubplot object at 0x0000026CDEA7E780>,\n",
       "        <matplotlib.axes._subplots.AxesSubplot object at 0x0000026CDEA3E940>,\n",
       "        <matplotlib.axes._subplots.AxesSubplot object at 0x0000026CDF3D54E0>,\n",
       "        <matplotlib.axes._subplots.AxesSubplot object at 0x0000026CDE9C5828>,\n",
       "        <matplotlib.axes._subplots.AxesSubplot object at 0x0000026CDE98D278>,\n",
       "        <matplotlib.axes._subplots.AxesSubplot object at 0x0000026CDE957E10>,\n",
       "        <matplotlib.axes._subplots.AxesSubplot object at 0x0000026CDE927080>,\n",
       "        <matplotlib.axes._subplots.AxesSubplot object at 0x0000026CDE8EF0B8>,\n",
       "        <matplotlib.axes._subplots.AxesSubplot object at 0x0000026CDE89C710>,\n",
       "        <matplotlib.axes._subplots.AxesSubplot object at 0x0000026CDE86ECF8>,\n",
       "        <matplotlib.axes._subplots.AxesSubplot object at 0x0000026CDE84BB00>,\n",
       "        <matplotlib.axes._subplots.AxesSubplot object at 0x0000026CDE81B320>,\n",
       "        <matplotlib.axes._subplots.AxesSubplot object at 0x0000026CDEEBA390>,\n",
       "        <matplotlib.axes._subplots.AxesSubplot object at 0x0000026CDE7D2470>,\n",
       "        <matplotlib.axes._subplots.AxesSubplot object at 0x0000026CDE7976D8>,\n",
       "        <matplotlib.axes._subplots.AxesSubplot object at 0x0000026CDF210128>,\n",
       "        <matplotlib.axes._subplots.AxesSubplot object at 0x0000026CDD776978>,\n",
       "        <matplotlib.axes._subplots.AxesSubplot object at 0x0000026CDF234400>,\n",
       "        <matplotlib.axes._subplots.AxesSubplot object at 0x0000026CDD71A978>,\n",
       "        <matplotlib.axes._subplots.AxesSubplot object at 0x0000026CDD6EBDD8>,\n",
       "        <matplotlib.axes._subplots.AxesSubplot object at 0x0000026CDD6B4F28>,\n",
       "        <matplotlib.axes._subplots.AxesSubplot object at 0x0000026CDF2C5940>,\n",
       "        <matplotlib.axes._subplots.AxesSubplot object at 0x0000026CDF2B6FD0>,\n",
       "        <matplotlib.axes._subplots.AxesSubplot object at 0x0000026CDF2A4470>,\n",
       "        <matplotlib.axes._subplots.AxesSubplot object at 0x0000026CD9B9F4A8>,\n",
       "        <matplotlib.axes._subplots.AxesSubplot object at 0x0000026CD9CAC898>,\n",
       "        <matplotlib.axes._subplots.AxesSubplot object at 0x0000026CDA06F278>,\n",
       "        <matplotlib.axes._subplots.AxesSubplot object at 0x0000026CDF170BE0>,\n",
       "        <matplotlib.axes._subplots.AxesSubplot object at 0x0000026CDA00DFD0>,\n",
       "        <matplotlib.axes._subplots.AxesSubplot object at 0x0000026CD94046D8>,\n",
       "        <matplotlib.axes._subplots.AxesSubplot object at 0x0000026CDD5FE400>,\n",
       "        <matplotlib.axes._subplots.AxesSubplot object at 0x0000026CDFC23E10>,\n",
       "        <matplotlib.axes._subplots.AxesSubplot object at 0x0000026CDE80F4E0>,\n",
       "        <matplotlib.axes._subplots.AxesSubplot object at 0x0000026CDEBB4B70>,\n",
       "        <matplotlib.axes._subplots.AxesSubplot object at 0x0000026CDF171240>,\n",
       "        <matplotlib.axes._subplots.AxesSubplot object at 0x0000026CDEAF78D0>,\n",
       "        <matplotlib.axes._subplots.AxesSubplot object at 0x0000026CDD737F60>,\n",
       "        <matplotlib.axes._subplots.AxesSubplot object at 0x0000026CDE8D0630>,\n",
       "        <matplotlib.axes._subplots.AxesSubplot object at 0x0000026CDEF7ACC0>,\n",
       "        <matplotlib.axes._subplots.AxesSubplot object at 0x0000026CDEE7D390>,\n",
       "        <matplotlib.axes._subplots.AxesSubplot object at 0x0000026CDEE41A20>,\n",
       "        <matplotlib.axes._subplots.AxesSubplot object at 0x0000026CDEA1A0F0>,\n",
       "        <matplotlib.axes._subplots.AxesSubplot object at 0x0000026CDE8A6780>,\n",
       "        <matplotlib.axes._subplots.AxesSubplot object at 0x0000026CDEF2EE10>,\n",
       "        <matplotlib.axes._subplots.AxesSubplot object at 0x0000026CDECD74E0>,\n",
       "        <matplotlib.axes._subplots.AxesSubplot object at 0x0000026CDEC54B70>,\n",
       "        <matplotlib.axes._subplots.AxesSubplot object at 0x0000026CDE81A240>,\n",
       "        <matplotlib.axes._subplots.AxesSubplot object at 0x0000026CDD7958D0>,\n",
       "        <matplotlib.axes._subplots.AxesSubplot object at 0x0000026CDE925F60>,\n",
       "        <matplotlib.axes._subplots.AxesSubplot object at 0x0000026CDEC3F630>,\n",
       "        <matplotlib.axes._subplots.AxesSubplot object at 0x0000026CDE9ACCC0>,\n",
       "        <matplotlib.axes._subplots.AxesSubplot object at 0x0000026CDE9EF390>,\n",
       "        <matplotlib.axes._subplots.AxesSubplot object at 0x0000026CDE9D3A20>,\n",
       "        <matplotlib.axes._subplots.AxesSubplot object at 0x0000026CDEEDC0F0>,\n",
       "        <matplotlib.axes._subplots.AxesSubplot object at 0x0000026CDEEDF780>,\n",
       "        <matplotlib.axes._subplots.AxesSubplot object at 0x0000026CDE887E10>,\n",
       "        <matplotlib.axes._subplots.AxesSubplot object at 0x0000026CDEB724E0>,\n",
       "        <matplotlib.axes._subplots.AxesSubplot object at 0x0000026CDA089B70>,\n",
       "        <matplotlib.axes._subplots.AxesSubplot object at 0x0000026CDFC26240>,\n",
       "        <matplotlib.axes._subplots.AxesSubplot object at 0x0000026CDFC4D8D0>,\n",
       "        <matplotlib.axes._subplots.AxesSubplot object at 0x0000026CDF4A1F60>,\n",
       "        <matplotlib.axes._subplots.AxesSubplot object at 0x0000026CDA14D630>,\n",
       "        <matplotlib.axes._subplots.AxesSubplot object at 0x0000026CDD59BCC0>,\n",
       "        <matplotlib.axes._subplots.AxesSubplot object at 0x0000026CDF506390>,\n",
       "        <matplotlib.axes._subplots.AxesSubplot object at 0x0000026CDF4D2A20>,\n",
       "        <matplotlib.axes._subplots.AxesSubplot object at 0x0000026CDD5520F0>,\n",
       "        <matplotlib.axes._subplots.AxesSubplot object at 0x0000026CDD4EC780>,\n",
       "        <matplotlib.axes._subplots.AxesSubplot object at 0x0000026CDD4BBE10>,\n",
       "        <matplotlib.axes._subplots.AxesSubplot object at 0x0000026CDD48F4E0>,\n",
       "        <matplotlib.axes._subplots.AxesSubplot object at 0x0000026CDD518B70>,\n",
       "        <matplotlib.axes._subplots.AxesSubplot object at 0x0000026CDD458240>,\n",
       "        <matplotlib.axes._subplots.AxesSubplot object at 0x0000026CDD45E8D0>,\n",
       "        <matplotlib.axes._subplots.AxesSubplot object at 0x0000026CDD42CF60>,\n",
       "        <matplotlib.axes._subplots.AxesSubplot object at 0x0000026CDD33F630>,\n",
       "        <matplotlib.axes._subplots.AxesSubplot object at 0x0000026CDD31ECC0>,\n",
       "        <matplotlib.axes._subplots.AxesSubplot object at 0x0000026CDD286390>,\n",
       "        <matplotlib.axes._subplots.AxesSubplot object at 0x0000026CDA32DA20>,\n",
       "        <matplotlib.axes._subplots.AxesSubplot object at 0x0000026CDA2CE0F0>,\n",
       "        <matplotlib.axes._subplots.AxesSubplot object at 0x0000026CDA2B6780>,\n",
       "        <matplotlib.axes._subplots.AxesSubplot object at 0x0000026CDA252E10>,\n",
       "        <matplotlib.axes._subplots.AxesSubplot object at 0x0000026CDA17F4E0>,\n",
       "        <matplotlib.axes._subplots.AxesSubplot object at 0x0000026CDA1A8B70>,\n",
       "        <matplotlib.axes._subplots.AxesSubplot object at 0x0000026CDA1DA240>,\n",
       "        <matplotlib.axes._subplots.AxesSubplot object at 0x0000026CDA2028D0>,\n",
       "        <matplotlib.axes._subplots.AxesSubplot object at 0x0000026CDA22CF60>,\n",
       "        <matplotlib.axes._subplots.AxesSubplot object at 0x0000026CDA29A630>,\n",
       "        <matplotlib.axes._subplots.AxesSubplot object at 0x0000026CDA343CC0>,\n",
       "        <matplotlib.axes._subplots.AxesSubplot object at 0x0000026CDA376390>,\n",
       "        <matplotlib.axes._subplots.AxesSubplot object at 0x0000026CDA39BA20>,\n",
       "        <matplotlib.axes._subplots.AxesSubplot object at 0x0000026CDA3CF0F0>,\n",
       "        <matplotlib.axes._subplots.AxesSubplot object at 0x0000026CDA3F8780>,\n",
       "        <matplotlib.axes._subplots.AxesSubplot object at 0x0000026CDA41DE10>,\n",
       "        <matplotlib.axes._subplots.AxesSubplot object at 0x0000026CDA44E4E0>,\n",
       "        <matplotlib.axes._subplots.AxesSubplot object at 0x0000026CDA478B70>,\n",
       "        <matplotlib.axes._subplots.AxesSubplot object at 0x0000026CDA4AB240>,\n",
       "        <matplotlib.axes._subplots.AxesSubplot object at 0x0000026CDA4D18D0>,\n",
       "        <matplotlib.axes._subplots.AxesSubplot object at 0x0000026CDA4FDF60>,\n",
       "        <matplotlib.axes._subplots.AxesSubplot object at 0x0000026CDA52D630>,\n",
       "        <matplotlib.axes._subplots.AxesSubplot object at 0x0000026CDA553CC0>,\n",
       "        <matplotlib.axes._subplots.AxesSubplot object at 0x0000026CDA586390>,\n",
       "        <matplotlib.axes._subplots.AxesSubplot object at 0x0000026CDA5AFA20>,\n",
       "        <matplotlib.axes._subplots.AxesSubplot object at 0x0000026CDA5E10F0>,\n",
       "        <matplotlib.axes._subplots.AxesSubplot object at 0x0000026CDA608780>,\n",
       "        <matplotlib.axes._subplots.AxesSubplot object at 0x0000026CDA631E10>,\n",
       "        <matplotlib.axes._subplots.AxesSubplot object at 0x0000026CDA6634E0>,\n",
       "        <matplotlib.axes._subplots.AxesSubplot object at 0x0000026CDA68BB70>,\n",
       "        <matplotlib.axes._subplots.AxesSubplot object at 0x0000026CDA6BE240>,\n",
       "        <matplotlib.axes._subplots.AxesSubplot object at 0x0000026CDA6E58D0>,\n",
       "        <matplotlib.axes._subplots.AxesSubplot object at 0x0000026CDA70DF60>,\n",
       "        <matplotlib.axes._subplots.AxesSubplot object at 0x0000026CDA73E630>,\n",
       "        <matplotlib.axes._subplots.AxesSubplot object at 0x0000026CDA765CC0>,\n",
       "        <matplotlib.axes._subplots.AxesSubplot object at 0x0000026CDA799390>,\n",
       "        <matplotlib.axes._subplots.AxesSubplot object at 0x0000026CDA7C2A20>,\n",
       "        <matplotlib.axes._subplots.AxesSubplot object at 0x0000026CDA7F30F0>,\n",
       "        <matplotlib.axes._subplots.AxesSubplot object at 0x0000026CDA81B780>,\n",
       "        <matplotlib.axes._subplots.AxesSubplot object at 0x0000026CDA843E10>,\n",
       "        <matplotlib.axes._subplots.AxesSubplot object at 0x0000026CDA8744E0>,\n",
       "        <matplotlib.axes._subplots.AxesSubplot object at 0x0000026CDA89BB70>,\n",
       "        <matplotlib.axes._subplots.AxesSubplot object at 0x0000026CDA8CE240>,\n",
       "        <matplotlib.axes._subplots.AxesSubplot object at 0x0000026CDA8F68D0>,\n",
       "        <matplotlib.axes._subplots.AxesSubplot object at 0x0000026CDA91FF60>,\n",
       "        <matplotlib.axes._subplots.AxesSubplot object at 0x0000026CDA950630>,\n",
       "        <matplotlib.axes._subplots.AxesSubplot object at 0x0000026CDB948CC0>,\n",
       "        <matplotlib.axes._subplots.AxesSubplot object at 0x0000026CDB97A390>,\n",
       "        <matplotlib.axes._subplots.AxesSubplot object at 0x0000026CDB9A3A20>,\n",
       "        <matplotlib.axes._subplots.AxesSubplot object at 0x0000026CDB9D50F0>,\n",
       "        <matplotlib.axes._subplots.AxesSubplot object at 0x0000026CDB9FB780>,\n",
       "        <matplotlib.axes._subplots.AxesSubplot object at 0x0000026CDBA25E10>,\n",
       "        <matplotlib.axes._subplots.AxesSubplot object at 0x0000026CDBA574E0>,\n",
       "        <matplotlib.axes._subplots.AxesSubplot object at 0x0000026CDBA80B70>,\n",
       "        <matplotlib.axes._subplots.AxesSubplot object at 0x0000026CDBAB2240>,\n",
       "        <matplotlib.axes._subplots.AxesSubplot object at 0x0000026CDBAD88D0>,\n",
       "        <matplotlib.axes._subplots.AxesSubplot object at 0x0000026CDBB01F60>,\n",
       "        <matplotlib.axes._subplots.AxesSubplot object at 0x0000026CDBB31630>,\n",
       "        <matplotlib.axes._subplots.AxesSubplot object at 0x0000026CDBB5ACC0>,\n",
       "        <matplotlib.axes._subplots.AxesSubplot object at 0x0000026CDBB8D390>,\n",
       "        <matplotlib.axes._subplots.AxesSubplot object at 0x0000026CDBBB4A20>,\n",
       "        <matplotlib.axes._subplots.AxesSubplot object at 0x0000026CDBBE70F0>,\n",
       "        <matplotlib.axes._subplots.AxesSubplot object at 0x0000026CDBC0F780>,\n",
       "        <matplotlib.axes._subplots.AxesSubplot object at 0x0000026CDBC36E10>,\n",
       "        <matplotlib.axes._subplots.AxesSubplot object at 0x0000026CDBC694E0>,\n",
       "        <matplotlib.axes._subplots.AxesSubplot object at 0x0000026CDBC91B70>,\n",
       "        <matplotlib.axes._subplots.AxesSubplot object at 0x0000026CDBCC2240>],\n",
       "       dtype=object))"
      ]
     },
     "execution_count": 27,
     "metadata": {},
     "output_type": "execute_result"
    },
    {
     "data": {
      "image/png": "[encoded data removed]",
      "text/plain": [
       "<Figure size 432x288 with 221 Axes>"
      ]
     },
     "metadata": {},
     "output_type": "display_data"
    }
   ],
   "source": [
    "\n"
   ]
  },
  {
   "cell_type": "code",
   "execution_count": null,
   "metadata": {},
   "outputs": [],
   "source": []
  },
  {
   "cell_type": "code",
   "execution_count": null,
   "metadata": {},
   "outputs": [],
   "source": []
  }
 ],
 "metadata": {
  "kernelspec": {
   "display_name": "Python 3",
   "language": "python",
   "name": "python3"
  },
  "language_info": {
   "codemirror_mode": {
    "name": "ipython",
    "version": 3
   },
   "file_extension": ".py",
   "mimetype": "text/x-python",
   "name": "python",
   "nbconvert_exporter": "python",
   "pygments_lexer": "ipython3",
   "version": "3.6.5"
  }
 },
 "nbformat": 4,
 "nbformat_minor": 2
}
